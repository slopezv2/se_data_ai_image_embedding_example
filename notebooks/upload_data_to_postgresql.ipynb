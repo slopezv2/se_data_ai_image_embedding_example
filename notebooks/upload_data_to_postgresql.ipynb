{
 "cells": [
  {
   "cell_type": "code",
   "execution_count": 1,
   "id": "85af9d9d",
   "metadata": {},
   "outputs": [],
   "source": [
    "import os\n",
    "import psycopg2\n",
    "from psycopg2 import pool\n",
    "from dotenv import load_dotenv"
   ]
  },
  {
   "cell_type": "code",
   "execution_count": 2,
   "id": "b77ee201",
   "metadata": {},
   "outputs": [],
   "source": [
    "# Directories\n",
    "current_dir = os.path.dirname(os.path.realpath(os.getcwd()))\n",
    "parent_dir = os.path.dirname(\"../\")"
   ]
  },
  {
   "cell_type": "code",
   "execution_count": 3,
   "id": "84b61884",
   "metadata": {},
   "outputs": [
    {
     "data": {
      "text/plain": [
       "True"
      ]
     },
     "execution_count": 3,
     "metadata": {},
     "output_type": "execute_result"
    }
   ],
   "source": [
    "# Load environemt file\n",
    "load_dotenv(os.path.join(parent_dir, \".env\"))"
   ]
  },
  {
   "cell_type": "code",
   "execution_count": 4,
   "id": "25d38e09",
   "metadata": {},
   "outputs": [],
   "source": [
    "# Constants\n",
    "IMAGE_FILE_COLUMN_NAME = \"image_file\"\n",
    "DESCRIPTION_COLUMN_NAME = \"description\"\n",
    "AUTHOR_COLUMN_NAME = \"author\"\n",
    "TITLE_COLUMN_NAME = \"title\"\n",
    "TECHNIQUE_COLUMN_NAME = \"technique\"\n",
    "TYPE_COLUMN_NAME = \"type\"\n",
    "TIMEFRAME_COLUMN_NAME = \"timeframe\"\n",
    "VECTOR_COLUMN_NAME = \"vector\""
   ]
  },
  {
   "cell_type": "code",
   "execution_count": 5,
   "id": "33d3f6a7",
   "metadata": {},
   "outputs": [],
   "source": [
    "postgres_host = os.getenv(\"POSTGRES_HOST\")\n",
    "postgres_database_name = os.getenv(\"POSTGRES_DB_NAME\")\n",
    "postgres_user = os.getenv(\"POSTGRES_USER\")\n",
    "postgres_password = os.getenv(\"POSTGRES_PASSWORD\")\n",
    "sslmode = \"require\"\n",
    "table_name = os.getenv(\"POSTGRES_TABLE_NAME\")\n",
    "postgres_connection_string = (\n",
    "    f\"host={postgres_host} user={postgres_user} \"\n",
    "    f\"dbname={postgres_database_name} \"\n",
    "    f\"password={postgres_password} sslmode={sslmode}\"\n",
    ")"
   ]
  },
  {
   "cell_type": "code",
   "execution_count": 6,
   "id": "624697f0",
   "metadata": {},
   "outputs": [],
   "source": [
    "# Dataset's folder\n",
    "dataset_folder = os.path.join(parent_dir, \"dataset\")\n",
    "dataset_filepath = os.path.join(dataset_folder, \"dataset_embeddings.csv\")"
   ]
  },
  {
   "cell_type": "code",
   "execution_count": 8,
   "id": "04ae1348",
   "metadata": {},
   "outputs": [],
   "source": [
    "def main():\n",
    "    postgresql_pool = psycopg2.pool.SimpleConnectionPool(\n",
    "        1, 20, postgres_connection_string\n",
    "    )\n",
    "    if (postgresql_pool):\n",
    "        print(\"Connection pool created successfully\")\n",
    "\n",
    "    # Get a connection from the connection pool\n",
    "    conn = postgresql_pool.getconn()\n",
    "    cursor = conn.cursor()\n",
    "\n",
    "    print(\"Creating a table...\")\n",
    "    cursor.execute(f\"DROP TABLE IF EXISTS {table_name};\")\n",
    "    cursor.execute(\n",
    "        f\"CREATE TABLE {table_name} (\"\n",
    "        f\"{IMAGE_FILE_COLUMN_NAME} TEXT PRIMARY KEY,\"\n",
    "        f\"{DESCRIPTION_COLUMN_NAME} TEXT NOT NULL,\"\n",
    "        f\"{AUTHOR_COLUMN_NAME} TEXT NOT NULL,\"\n",
    "        f\"{TITLE_COLUMN_NAME} TEXT NOT NULL,\"\n",
    "        f\"{TECHNIQUE_COLUMN_NAME} TEXT,\"\n",
    "        f\"{TYPE_COLUMN_NAME} TEXT,\"\n",
    "        f\"{TIMEFRAME_COLUMN_NAME} TEXT,\"\n",
    "        f\"{VECTOR_COLUMN_NAME} VECTOR(1024) NOT NULL);\"\n",
    "    )\n",
    "\n",
    "    print(\"Saving data to table...\")\n",
    "    with open(dataset_filepath) as csv_file:\n",
    "        cursor.copy_expert(\n",
    "            f\"COPY {table_name} FROM STDIN WITH \"\n",
    "            f\"(FORMAT csv, DELIMITER '\\t', HEADER MATCH);\",\n",
    "            csv_file\n",
    "        )\n",
    "\n",
    "    conn.commit()\n",
    "\n",
    "    # Fetch all rows from table\n",
    "    cursor.execute(f\"SELECT COUNT(*) FROM {table_name};\")\n",
    "    rows = cursor.fetchall()\n",
    "    print(f\"Number of records in the table: {rows[0][0]}\")\n",
    "\n",
    "    # Close the connection\n",
    "    cursor.close()\n",
    "    conn.close()"
   ]
  },
  {
   "cell_type": "code",
   "execution_count": 9,
   "id": "129dff44",
   "metadata": {},
   "outputs": [
    {
     "name": "stdout",
     "output_type": "stream",
     "text": [
      "Connection pool created successfully\n",
      "Creating a table...\n",
      "Saving data to table...\n",
      "Number of records in the table: 11206\n",
      "Done!\n"
     ]
    }
   ],
   "source": [
    "if __name__ == \"__main__\":\n",
    "    main()\n",
    "    print(\"Done!\")"
   ]
  }
 ],
 "metadata": {
  "kernelspec": {
   "display_name": "se-data-ai-image-embedding-example",
   "language": "python",
   "name": "python3"
  },
  "language_info": {
   "codemirror_mode": {
    "name": "ipython",
    "version": 3
   },
   "file_extension": ".py",
   "mimetype": "text/x-python",
   "name": "python",
   "nbconvert_exporter": "python",
   "pygments_lexer": "ipython3",
   "version": "3.12.9"
  }
 },
 "nbformat": 4,
 "nbformat_minor": 5
}
